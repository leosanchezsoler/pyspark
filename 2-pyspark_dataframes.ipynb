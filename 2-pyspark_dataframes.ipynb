{
 "cells": [
  {
   "cell_type": "markdown",
   "id": "a4e3626d",
   "metadata": {},
   "source": [
    "# Pyspark Dataframes\n",
    "### Qué vamos a ver\n",
    "- PySpark Dataframe \n",
    "- Leer un dataset\n",
    "- Comprobar los Datatypes de las columnas (Schema)\n",
    "- Seleccionar columnas e indexarlas\n",
    "- Check Describe option similar to Pandas\n",
    "- Añadir columnas\n",
    "- Eliminar columnas\n",
    "- Renombrar Columnas"
   ]
  },
  {
   "cell_type": "markdown",
   "id": "4de8b332",
   "metadata": {},
   "source": []
  },
  {
   "cell_type": "code",
   "execution_count": null,
   "id": "beb48484",
   "metadata": {},
   "outputs": [],
   "source": []
  }
 ],
 "metadata": {
  "kernelspec": {
   "display_name": "Python 3",
   "language": "python",
   "name": "python3"
  },
  "language_info": {
   "codemirror_mode": {
    "name": "ipython",
    "version": 3
   },
   "file_extension": ".py",
   "mimetype": "text/x-python",
   "name": "python",
   "nbconvert_exporter": "python",
   "pygments_lexer": "ipython3",
   "version": "3.7.10"
  }
 },
 "nbformat": 4,
 "nbformat_minor": 5
}
