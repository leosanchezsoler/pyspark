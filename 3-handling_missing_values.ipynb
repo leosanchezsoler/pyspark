{
 "cells": [
  {
   "cell_type": "markdown",
   "id": "ded0783b",
   "metadata": {},
   "source": [
    "### Pyspark Handling Missing Values\n",
    "- Eliminar columnas\n",
    "- Eliminar Filas\n",
    "- Parámetros para el Dropping\n",
    "- Imputar valores nulos con la media, la mediana y la moda"
   ]
  },
  {
   "cell_type": "markdown",
   "id": "d178324e",
   "metadata": {},
   "source": []
  }
 ],
 "metadata": {
  "kernelspec": {
   "display_name": "Python 3",
   "language": "python",
   "name": "python3"
  },
  "language_info": {
   "codemirror_mode": {
    "name": "ipython",
    "version": 3
   },
   "file_extension": ".py",
   "mimetype": "text/x-python",
   "name": "python",
   "nbconvert_exporter": "python",
   "pygments_lexer": "ipython3",
   "version": "3.7.10"
  }
 },
 "nbformat": 4,
 "nbformat_minor": 5
}
